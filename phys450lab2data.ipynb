{
  "nbformat": 4,
  "nbformat_minor": 0,
  "metadata": {
    "colab": {
      "name": "phys450lab2data.ipynb",
      "provenance": [],
      "collapsed_sections": [],
      "authorship_tag": "ABX9TyPYCpYdGeFPQNLTFLZFSf4/",
      "include_colab_link": true
    },
    "kernelspec": {
      "name": "python3",
      "display_name": "Python 3"
    }
  },
  "cells": [
    {
      "cell_type": "markdown",
      "metadata": {
        "id": "view-in-github",
        "colab_type": "text"
      },
      "source": [
        "<a href=\"https://colab.research.google.com/github/loomdawg/PHYS450Labs/blob/main/phys450lab2data.ipynb\" target=\"_parent\"><img src=\"https://colab.research.google.com/assets/colab-badge.svg\" alt=\"Open In Colab\"/></a>"
      ]
    },
    {
      "cell_type": "code",
      "metadata": {
        "id": "cViXyBGhjUNo"
      },
      "source": [
        "#import libraries\n",
        "import numpy as np\n",
        "import matplotlib.pyplot as plt\n",
        "plt.style.use('seaborn-deep')\n",
        "import pandas as pd\n",
        "import uncertainties.umath as u\n",
        "from uncertainties import ufloat\n",
        "from uncertainties.unumpy import uarray\n",
        "from uncertainties import nominal_value as nv\n",
        "from uncertainties import std_dev as sd"
      ],
      "execution_count": null,
      "outputs": []
    },
    {
      "cell_type": "markdown",
      "metadata": {
        "id": "2tzQILzTGNr1"
      },
      "source": [
        "2. Focal Length from Lens Geometry"
      ]
    },
    {
      "cell_type": "code",
      "metadata": {
        "id": "MDGRMMADkO7k"
      },
      "source": [
        "# function to calculate Radius\n",
        "def calculate_curvature(h, s): #returns radius R\n",
        "  return (h**2 + s**2) / (2 * h)"
      ],
      "execution_count": null,
      "outputs": []
    },
    {
      "cell_type": "code",
      "metadata": {
        "id": "MRovHHI6ko0p"
      },
      "source": [
        "#function to calculate focal length from radius\n",
        "def manual_calculate_f_thick(R_1, R_2, t, n = 1.517): #returns focal length\n",
        "  one_over_f = (n - 1) * ((1 / R_1) - (1 / R_2) + ((n - 1) * t) / (n * R_1 * R_2))\n",
        "  return 1 / one_over_f\n",
        "\n",
        "def manual_calculate_f_thin(R_1, R_2, n = 1.517): #returns focal length\n",
        "  one_over_f = (n - 1) * ((1 / R_1) - (1 / R_2))\n",
        "  return 1 / one_over_f\n",
        "\n"
      ],
      "execution_count": null,
      "outputs": []
    },
    {
      "cell_type": "code",
      "metadata": {
        "colab": {
          "base_uri": "https://localhost:8080/"
        },
        "id": "H6PK5q1NmlJ4",
        "outputId": "b1118231-bbfc-49b9-8a53-c5d08b0e1def"
      },
      "source": [
        "# input data and calculate average values #everything is measured in mm\n",
        "\n",
        "#input data\n",
        "# h_0_array = [19.940, 19.939, 19.909] \n",
        "# h_0_array = [19.940, 19.939]\n",
        "# s_array = [19.76, 19.51, 19.61]\n",
        "\n",
        "# h_2_up_array = [19.234, 19.239, 19.234] \n",
        "# h_2_down_array = [19.231, 19.340, 19.320] #DL02 with letts down \n",
        "# h_2_down_array = uarray([19.231, 19.340, 19.320], [.01, .01, .01])\n",
        "\n",
        "h_1_up_array = [20.801, 20.799, 20.802] #CL02 with letters up\n",
        "h_1_down_array = [20.805, 20.803, 20.801] #CL02 with letters down #data on CL02 is much better than data on DL02\n",
        "\n",
        "h_0_array = uarray([19.940, 19.939], [.01, .01]) #the last value in this was definitely an outlier.  It is very likely that it was a bad measurement, so we'll remove it\n",
        "s_array = uarray([19.76, 19.51, 19.61], [.1, .1, .1])\n",
        "h_2_up_array = uarray([19.234, 19.239, 19.234], [.01, .01, .01]) #DL02 with letters up\n",
        "h_2_down_array = uarray([19.340, 19.320], [.1, .1]) #its hard to say if the first value in this array is an outlier, we'll keep it for now but this will really screw up the error analysis\n",
        "h_1_up_array = uarray([20.801, 20.799, 20.802], [.01, .01, .01])\n",
        "h_1_down_array = uarray([20.805, 20.803, 20.801],[.01, .01, .01])\n",
        "\n",
        "t_c = ufloat(10.0, 1)\n",
        "t_d = ufloat(2.0, 1)\n",
        "\n",
        "# average values just to get a feel for all the measurements\n",
        "h_0 = h_0_array.mean()\n",
        "\n",
        "h_1_up = h_1_up_array.mean()\n",
        "h_1_down = h_1_down_array.mean()\n",
        "\n",
        "h_2_up = h_2_up_array.mean()\n",
        "h_2_down = h_2_down_array.mean()\n",
        "\n",
        "h_c_up = h_0 - h_1_up\n",
        "h_c_down = h_0 - h_1_down\n",
        "h_d_up = h_0 - h_2_up\n",
        "h_d_down = h_0 - h_2_down\n",
        "\n",
        "s = s_array.mean()\n",
        "\n",
        "# print data values just to see where we're at # I tried writing a function for this, but no luck.  \n",
        "print('h_0 = {h_0}\\n<s> = {s}\\nh_c_up = {hcup}\\nh_c_down = {hcdown}\\nh_d_up = {hdup}\\nh_d_down = {hddown}'.format(h_0 = h_0, s = s, hcup = h_c_up, hcdown = h_c_down, hdup = h_d_up, hddown = h_d_down))\n",
        "\n",
        "\n"
      ],
      "execution_count": null,
      "outputs": [
        {
          "output_type": "stream",
          "text": [
            "h_0 = 19.940+/-0.007\n",
            "<s> = 19.63+/-0.06\n",
            "h_c_up = -0.861+/-0.009\n",
            "h_c_down = -0.863+/-0.009\n",
            "h_d_up = 0.704+/-0.009\n",
            "h_d_down = 0.61+/-0.07\n"
          ],
          "name": "stdout"
        }
      ]
    },
    {
      "cell_type": "code",
      "metadata": {
        "id": "FDrw2PRBqodF"
      },
      "source": [
        "# lets make a method to tie everything together\n",
        "def calculate_f_thick(h_0_array, h_1_array, h_2_array, s_array, t): #input the raw data, returns focal length, R_1, R_2\n",
        "  h_0 = h_0_array.mean()\n",
        "  h_1 = h_1_array.mean()\n",
        "  h_2 = h_2_array.mean()\n",
        "  s = s_array.mean()\n",
        "\n",
        "  h_up = h_0 - h_1\n",
        "  h_down = h_0 - h_2\n",
        "\n",
        "  R_up = -calculate_curvature(h_up, s)\n",
        "  R_down = calculate_curvature(h_down, s)\n",
        "\n",
        "  return (manual_calculate_f_thick(R_up, R_down, t), R_up, R_down)\n",
        "\n",
        "def calculate_f_thin(h_0_array, h_1_array, h_2_array, s_array): #input raw data, returns focal length, R_1, R_2\n",
        "  h_0 = h_0_array.mean()\n",
        "  h_1 = h_1_array.mean()\n",
        "  h_2 = h_2_array.mean()\n",
        "  s = s_array.mean()\n",
        "\n",
        "  h_up = h_0 - h_1\n",
        "  h_down = h_0 - h_2\n",
        "\n",
        "  R_up = -calculate_curvature(h_up, s)\n",
        "  R_down = calculate_curvature(h_down, s)\n",
        "\n",
        "  return (manual_calculate_f_thin(R_up, R_down), R_up, R_down)"
      ],
      "execution_count": null,
      "outputs": []
    },
    {
      "cell_type": "code",
      "metadata": {
        "colab": {
          "base_uri": "https://localhost:8080/",
          "height": 175
        },
        "id": "d3-UZUS9uxXW",
        "outputId": "6974611c-e6cc-433d-f21b-c3c9b21d8010"
      },
      "source": [
        "# calculate focal lengths\n",
        "f_c_thick, R_c_up, R_c_down = calculate_f_thick(h_0_array, h_1_up_array, h_1_down_array, s_array, t_c)\n",
        "f_c_thin, R_c_up, R_c_down = calculate_f_thin(h_0_array, h_1_up_array, h_1_down_array, s_array)\n",
        "\n",
        "f_d_thick, R_d_up, R_d_down = calculate_f_thick(h_0_array, h_2_up_array, h_2_down_array, s_array, t_d)\n",
        "f_d_thin, R_d_up, R_d_down = calculate_f_thin(h_0_array, h_2_up_array, h_2_down_array, s_array)\n",
        "\n",
        "#save values\n",
        "data = {\n",
        "    'converging':[nv(f_c_thick), nv(f_c_thin), nv(R_c_up), nv(R_c_down)],\n",
        "    '+- c_error':[sd(f_c_thick),sd(f_c_thin), sd(R_c_up), sd(R_c_down)],\n",
        "    'diverging': [nv(f_d_thick), nv(f_d_thin), nv(R_d_up), nv(R_d_down)],\n",
        "    '+- d_error':[sd(f_d_thick), sd(f_d_thin), sd(R_d_up), sd(R_d_down)],\n",
        "}\n",
        "\n",
        "# put values into df\n",
        "df = pd.DataFrame(data, index = ['thick f (mm)', 'thin f (mm)', 'R_up (mm)', 'R_down (mm)'])\n",
        "df.style.set_caption('Focal Lengths (thick and thin approximation) and Curvature Calculations from Lens Geometry')\n",
        "\n",
        "#display df\n",
        "\n",
        "# print(df)\n",
        "\n",
        "df"
      ],
      "execution_count": null,
      "outputs": [
        {
          "output_type": "execute_result",
          "data": {
            "text/html": [
              "<div>\n",
              "<style scoped>\n",
              "    .dataframe tbody tr th:only-of-type {\n",
              "        vertical-align: middle;\n",
              "    }\n",
              "\n",
              "    .dataframe tbody tr th {\n",
              "        vertical-align: top;\n",
              "    }\n",
              "\n",
              "    .dataframe thead th {\n",
              "        text-align: right;\n",
              "    }\n",
              "</style>\n",
              "<table border=\"1\" class=\"dataframe\">\n",
              "  <thead>\n",
              "    <tr style=\"text-align: right;\">\n",
              "      <th></th>\n",
              "      <th>converging</th>\n",
              "      <th>+- c_error</th>\n",
              "      <th>diverging</th>\n",
              "      <th>+- d_error</th>\n",
              "    </tr>\n",
              "  </thead>\n",
              "  <tbody>\n",
              "    <tr>\n",
              "      <th>thick f (mm)</th>\n",
              "      <td>218.084404</td>\n",
              "      <td>2.410242</td>\n",
              "      <td>-283.654584</td>\n",
              "      <td>15.707019</td>\n",
              "    </tr>\n",
              "    <tr>\n",
              "      <th>thin f (mm)</th>\n",
              "      <td>216.423772</td>\n",
              "      <td>2.404568</td>\n",
              "      <td>-283.982111</td>\n",
              "      <td>15.703558</td>\n",
              "    </tr>\n",
              "    <tr>\n",
              "      <th>R_up (mm)</th>\n",
              "      <td>224.084180</td>\n",
              "      <td>2.707499</td>\n",
              "      <td>-274.000539</td>\n",
              "      <td>3.893143</td>\n",
              "    </tr>\n",
              "    <tr>\n",
              "      <th>R_down (mm)</th>\n",
              "      <td>-223.480994</td>\n",
              "      <td>2.694590</td>\n",
              "      <td>316.306427</td>\n",
              "      <td>36.854931</td>\n",
              "    </tr>\n",
              "  </tbody>\n",
              "</table>\n",
              "</div>"
            ],
            "text/plain": [
              "              converging  +- c_error   diverging  +- d_error\n",
              "thick f (mm)  218.084404    2.410242 -283.654584   15.707019\n",
              "thin f (mm)   216.423772    2.404568 -283.982111   15.703558\n",
              "R_up (mm)     224.084180    2.707499 -274.000539    3.893143\n",
              "R_down (mm)  -223.480994    2.694590  316.306427   36.854931"
            ]
          },
          "metadata": {
            "tags": []
          },
          "execution_count": 188
        }
      ]
    },
    {
      "cell_type": "markdown",
      "metadata": {
        "id": "mOfnBoYrGSpu"
      },
      "source": [
        "Focal Length Using Parallel Rays"
      ]
    },
    {
      "cell_type": "code",
      "metadata": {
        "id": "zccQ3Zs0B3Dz"
      },
      "source": [
        ""
      ],
      "execution_count": null,
      "outputs": []
    }
  ]
}